{
  "nbformat": 4,
  "nbformat_minor": 0,
  "metadata": {
    "colab": {
      "provenance": []
    },
    "kernelspec": {
      "name": "python3",
      "display_name": "Python 3"
    },
    "language_info": {
      "name": "python"
    }
  },
  "cells": [
    {
      "cell_type": "markdown",
      "source": [
        "**Data Types and Structures Questions**"
      ],
      "metadata": {
        "id": "pr-BFOlg19hk"
      }
    },
    {
      "cell_type": "markdown",
      "source": [
        "Q1.What are data structures, and why are they important?"
      ],
      "metadata": {
        "id": "UcRdmvJK2Fmb"
      }
    },
    {
      "cell_type": "markdown",
      "source": [
        "Ans. A data structure is a way of organizing, managing, and storing data in a computer so that it can be accessed and used efficiently.Data structure are fundamental building blocks in computer science and programing.\n",
        "\n",
        "Importance of data structure\n",
        "\n",
        "1.Efficiency\n",
        "\n",
        "2.Data management\n",
        "\n",
        "3.scalability\n",
        "\n",
        "4.Problem solving."
      ],
      "metadata": {
        "id": "TiFRkdjv2NAb"
      }
    },
    {
      "cell_type": "markdown",
      "source": [
        "Q2. Explain the difference between mutable and immutable data types with examples."
      ],
      "metadata": {
        "id": "qcMv5xfB3gGj"
      }
    },
    {
      "cell_type": "markdown",
      "source": [
        "Ans.Mutable data types means the data type whose state and value can be changed after they are created.For e.g.int,float,list etc.\n",
        "\n",
        "Immutable data types means the data types whose state and value can't be changed after they are created.For e.g. tuple,string etc."
      ],
      "metadata": {
        "id": "CI1LOfaf3lpK"
      }
    },
    {
      "cell_type": "markdown",
      "source": [
        "Q3.What are the main differences between lists and tuples in Python?"
      ],
      "metadata": {
        "id": "pSMn57KY4uRy"
      }
    },
    {
      "cell_type": "markdown",
      "source": [
        "Ans.The main difference between lists and tuple is mutability.The list mutable and tuple is immutable."
      ],
      "metadata": {
        "id": "OR0kHs6G40RZ"
      }
    },
    {
      "cell_type": "markdown",
      "source": [
        "Q4.Describe how dictionaries store data."
      ],
      "metadata": {
        "id": "DOdA5g2X5XsB"
      }
    },
    {
      "cell_type": "markdown",
      "source": [
        "Ans.Dictionaries in python stored unordered collection of data in the form of key-value pair.They provide efficient lookup, insertion, and deletion operations.\n",
        "\n",
        "1.Hash table structure\n",
        "\n",
        "2.Key hashing\n",
        "\n",
        "3.Key-value storage\n",
        "\n",
        "4.Resizing the hash table\n",
        "\n"
      ],
      "metadata": {
        "id": "4_uezqrJ5h1R"
      }
    },
    {
      "cell_type": "markdown",
      "source": [
        "Q5.Why might you use a set instead of a list in Python?"
      ],
      "metadata": {
        "id": "53ErTmZw63SJ"
      }
    },
    {
      "cell_type": "markdown",
      "source": [
        "Ans.**Set**:\n",
        "\n",
        "a.It doesn't allow duplicate element\n",
        "\n",
        "b.It stores unordered collection of data making it suitable where ordered collection of data is not matter.\n",
        "\n",
        "c.Due to it is unordered it  doesn't allow indexing which in return give unique element.\n",
        "\n",
        "d.It supports mathematical Set operations like union(|),Intersection(&),Difference(-),Symmetric differences.\n",
        "\n",
        "e.It is more useful when there is large data sets to removing duplicates."
      ],
      "metadata": {
        "id": "DWi0_1MG69Io"
      }
    },
    {
      "cell_type": "markdown",
      "source": [
        "Q6.What is a string in Python, and how is it different from a list?"
      ],
      "metadata": {
        "id": "uAGX4ea_9svw"
      }
    },
    {
      "cell_type": "markdown",
      "source": [
        "Ans. a. String in python is a sequence of characters used to represent text which is enclosed in single,double and triple quotes while a list is designed to store ordered collection of various data type.\n",
        "\n",
        "b. List is mutable and string is immutable.\n",
        "\n",
        "c.String only consists a character where list contain elements of any data type."
      ],
      "metadata": {
        "id": "2_e06mZE9x4_"
      }
    },
    {
      "cell_type": "markdown",
      "source": [
        "Q7.How do tuples ensure data integrity in Python?"
      ],
      "metadata": {
        "id": "Ex6IYKqu_NJ_"
      }
    },
    {
      "cell_type": "markdown",
      "source": [
        "Ans.Tuples in Python help ensure data integrity through their immutability and other characteristics.\n",
        "\n",
        "a.Immutability-which prevents modifications.\n",
        "\n",
        "b.Hashability - allowing use in dictionaries and sets\n",
        "\n",
        "c.Predictability.Guarantee fixed and reliable data."
      ],
      "metadata": {
        "id": "QQb8HFkh_STv"
      }
    },
    {
      "cell_type": "markdown",
      "source": [
        "Q8.What is a hash table, and how does it relate to dictionaries in Python?"
      ],
      "metadata": {
        "id": "ledqFsJeAvoX"
      }
    },
    {
      "cell_type": "markdown",
      "source": [],
      "metadata": {
        "id": "3YpcEXYxA2Ve"
      }
    },
    {
      "cell_type": "markdown",
      "source": [
        "Q9.Can lists contain different data types in Python?"
      ],
      "metadata": {
        "id": "HLoTPM2yBMh2"
      }
    },
    {
      "cell_type": "markdown",
      "source": [
        "Ans.Yes it is characteristic of list which contain ordered collection of various data types."
      ],
      "metadata": {
        "id": "sAPwZiBUBRcm"
      }
    },
    {
      "cell_type": "markdown",
      "source": [
        "Q10.Explain why strings are immutable in Python?"
      ],
      "metadata": {
        "id": "KDxvgA4MBjMe"
      }
    },
    {
      "cell_type": "markdown",
      "source": [
        "ANS. strings in Python are immutable, meaning that once a string is created, its content cannot be changed.\n",
        "\n",
        "1. Memory efficiency- reuse the same memory for identical strings.\n",
        "\n",
        "2. Hashability - enabling their use as keys in dictionaries.\n",
        "\n",
        "3. Simplicity and predictability in string handling.\n",
        "\n",
        "4. Enhanced security and consistency."
      ],
      "metadata": {
        "id": "cvAziCdkBneN"
      }
    },
    {
      "cell_type": "markdown",
      "source": [
        "Q11.What advantages do dictionaries offer over lists for certain tasks?"
      ],
      "metadata": {
        "id": "AB8vCNZ7CtFX"
      }
    },
    {
      "cell_type": "markdown",
      "source": [
        "Ans."
      ],
      "metadata": {
        "id": "v-h7mKEHdUwk"
      }
    },
    {
      "cell_type": "markdown",
      "source": [
        "Q12. Describe a scenario where using a tuple would be preferable over a list."
      ],
      "metadata": {
        "id": "nU4E3CdydX-D"
      }
    },
    {
      "cell_type": "markdown",
      "source": [
        "Ans. When working with geographic data, such as storing latitude and longitude,\n",
        "the tuple which provides immutability play a cruicial role in maintaining consistency.\n",
        "\n",
        "Use a tuple over a list when:\n",
        "\n",
        "1. The data is immutable and must remain unchanged.\n",
        "\n",
        "2. You need hashability (e.g., as dictionary keys).\n",
        "\n",
        "3. Memory efficiency is important, especially for large collections of fixed data."
      ],
      "metadata": {
        "id": "G_oJqmxCdb0U"
      }
    },
    {
      "cell_type": "markdown",
      "source": [
        "Q13.How do sets handle duplicate values in Python?"
      ],
      "metadata": {
        "id": "s6zE0noQfppr"
      }
    },
    {
      "cell_type": "markdown",
      "source": [
        "Ans. Sets automatically remove duplicates during creation or when elements are added.\n",
        "\n",
        "1. If you try to add duplicates manually, they are ignored:\n",
        "\n",
        "2. When combining sets, duplicates across sets are also removed:\n",
        "\n",
        "3. Convert a list to a set to remove duplicates:\n",
        "\n",
        "4. Sets allow fast membership testing because duplicates are eliminated:\n"
      ],
      "metadata": {
        "id": "aRfNjGPKfuKL"
      }
    },
    {
      "cell_type": "markdown",
      "source": [
        "Q14. How does the “in” keyword work differently for lists and dictionaries?"
      ],
      "metadata": {
        "id": "RxcbJ22XgwIL"
      }
    },
    {
      "cell_type": "markdown",
      "source": [
        "Ans."
      ],
      "metadata": {
        "id": "pErcL6pYg0ia"
      }
    },
    {
      "cell_type": "markdown",
      "source": [
        "Q15. Can you modify the elements of a tuple? Explain why or why not?"
      ],
      "metadata": {
        "id": "CQ6oX1xkg1dL"
      }
    },
    {
      "cell_type": "markdown",
      "source": [
        "Ans. No, we cannot modify the elements of a tuple in Python because tuples are immutable. This immutability means that once a tuple is created, its elements cannot be changed, added to, or removed.\n",
        "\n",
        "Here is why tuple cannot be modified-\n",
        "\n",
        "1. You cannot modify a tuple because it is immutable.\n",
        "2. This immutability ensures predictability, hashability, and memory efficiency.\n",
        "3. Mutable elements inside a tuple can be modified, but the tuple itself    \n",
        "   remains unchanged.\n",
        "4. If modification is necessary, you must create a new tuple."
      ],
      "metadata": {
        "id": "C7rKUZ5rg7a6"
      }
    },
    {
      "cell_type": "markdown",
      "source": [
        "Q16. What is a nested dictionary, and give an example of its use case?"
      ],
      "metadata": {
        "id": "3nzYIEs9h65q"
      }
    },
    {
      "cell_type": "markdown",
      "source": [
        "Ans. A nested dictionary is a dictionary within a dictionary. It allows for the storage of data in a hierarchical structure, where each key in the outer dictionary can have a value that is itself a dictionary.\n",
        "\n",
        "**Example: Storing Employee Data by Department**\n",
        "\n",
        "Imagine you’re managing an employee database for a company. You can use a nested dictionary to organize employees by department, and each department can have detailed information about individual employees.\n",
        "\n",
        "company =   \n",
        "\n",
        "{\n",
        "    \n",
        "    \"Engineering\":\n",
        "    {\n",
        "        \"E001\": {\"name\": \"Shubham\", \"role\": \"Software Engineer\", \"salary\": 95000},\n",
        "        \"E002\": {\"name\": \"Bob\", \"role\": \"DevOps Engineer\", \"salary\": 90000},\n",
        "    },\n",
        "    \"HR\":\n",
        "    {\n",
        "        \"H001\": {\"name\": \"Prerna\", \"role\": \"HR Manager\", \"salary\": 70000},\n",
        "        \"H002\": {\"name\": \"Gaurav\", \"role\": \"Recruiter\", \"salary\": 60000},\n",
        "    },\n",
        "}\n",
        "\n",
        "print(company[\"Engineering\"][\"E001\"][\"name\"])\n",
        "\n",
        "\n",
        "print(company[\"HR\"][\"H002\"][\"role\"])\n",
        "\n",
        "\n",
        "company[\"Engineering\"][\"E003\"] = {\"name\": \"Eve\", \"role\": \"Data Scientist\", \"salary\": 105000}\n",
        "\n",
        "company[\"HR\"][\"H001\"][\"salary\"] = 75000\n",
        "print(company)\n"
      ],
      "metadata": {
        "id": "n1WKME9CiAPC"
      }
    },
    {
      "cell_type": "markdown",
      "source": [
        "Q17.  Describe the time complexity of accessing elements in a dictionary?"
      ],
      "metadata": {
        "id": "HBbmxkQ3j_ia"
      }
    },
    {
      "cell_type": "markdown",
      "source": [
        "Ans."
      ],
      "metadata": {
        "id": "qxN43HJekFvZ"
      }
    },
    {
      "cell_type": "markdown",
      "source": [
        "Q18.  In what situations are lists preferred over dictionaries?"
      ],
      "metadata": {
        "id": "xdj1M2kBkG5x"
      }
    },
    {
      "cell_type": "markdown",
      "source": [
        "Ans. Use lists when:\n",
        "\n",
        "1. The data is ordered, and position matters.\n",
        "\n",
        "2. Lists are ideal when you need to access elements by their position using an index whereas dictionaries require keys for access\n",
        "\n",
        "3. If you are storing homogeneous data (all elements of the same type) then lists are preferable where dictioneries are better suited for storing heterogeneous data.\n",
        "\n",
        "4. If your data does not have a natural key-value relationship, lists are more appropriate.\n",
        "\n",
        "5. The focus is on memory efficiency and simple numeric operations."
      ],
      "metadata": {
        "id": "ZM0uBTRtkKhZ"
      }
    },
    {
      "cell_type": "markdown",
      "source": [
        "Q19. Why are dictionaries considered unordered, and how does that affect data retrieval?"
      ],
      "metadata": {
        "id": "DTCBqXS5nPaB"
      }
    },
    {
      "cell_type": "markdown",
      "source": [
        "Ans."
      ],
      "metadata": {
        "id": "AzqkrS2AnUmH"
      }
    },
    {
      "cell_type": "markdown",
      "source": [
        "Q20.Explain the difference between a list and a dictionary in terms of data retrieval."
      ],
      "metadata": {
        "id": "-HvfVE10nV3A"
      }
    },
    {
      "cell_type": "markdown",
      "source": [
        "Ans. 1. Access Method = In list the access method is by index (e.g., my_list[0])\n",
        "where in dictionery is key (e.g., my_dict[\"key\"])\n",
        "\n",
        "2.In list data are stored in ordered manner where in dictionery it is in key-value pair.\n",
        "\n",
        "3. List allowed0 duplicates where in dictionery keys must be unique.\n",
        "\n"
      ],
      "metadata": {
        "id": "Dd7zL2Fhn7-P"
      }
    },
    {
      "cell_type": "markdown",
      "source": [
        "**Practical Questions**"
      ],
      "metadata": {
        "id": "C_cXqZcNxfms"
      }
    },
    {
      "cell_type": "markdown",
      "source": [
        "Q1. Write a code to create a string with your name and print it?"
      ],
      "metadata": {
        "id": "eqmknXXnxjNs"
      }
    },
    {
      "cell_type": "code",
      "source": [
        "a = \"Shubham\"\n",
        "print(a)"
      ],
      "metadata": {
        "colab": {
          "base_uri": "https://localhost:8080/"
        },
        "id": "wIuVv2RAxptU",
        "outputId": "0dfa62f5-366a-4b39-8979-863cff074dfb"
      },
      "execution_count": 2,
      "outputs": [
        {
          "output_type": "stream",
          "name": "stdout",
          "text": [
            "Shubham\n"
          ]
        }
      ]
    },
    {
      "cell_type": "markdown",
      "source": [
        "Q2.Write a code to find the length of the string \"Hello World\"."
      ],
      "metadata": {
        "id": "2ftONaqgxxdE"
      }
    },
    {
      "cell_type": "code",
      "source": [
        "a = \"Hello World\"\n",
        "print(len(a))"
      ],
      "metadata": {
        "colab": {
          "base_uri": "https://localhost:8080/"
        },
        "id": "3KJBkoFex0jk",
        "outputId": "a4ef7f1b-06b5-496e-b558-20476fee264d"
      },
      "execution_count": 3,
      "outputs": [
        {
          "output_type": "stream",
          "name": "stdout",
          "text": [
            "11\n"
          ]
        }
      ]
    },
    {
      "cell_type": "markdown",
      "source": [
        "Q3.Write a code to slice the first 3 characters from the string \"Python Programming\""
      ],
      "metadata": {
        "id": "Fdg7fc82x6Es"
      }
    },
    {
      "cell_type": "code",
      "source": [
        "a = \"Python Programming\"\n",
        "print(a[0:3])"
      ],
      "metadata": {
        "colab": {
          "base_uri": "https://localhost:8080/"
        },
        "id": "7a-nuscjx9Nk",
        "outputId": "35638496-0a73-4519-98b8-50b8fae6efd4"
      },
      "execution_count": 4,
      "outputs": [
        {
          "output_type": "stream",
          "name": "stdout",
          "text": [
            "Pyt\n"
          ]
        }
      ]
    },
    {
      "cell_type": "markdown",
      "source": [
        "Q4.Write a code to convert the string \"hello\" to uppercase."
      ],
      "metadata": {
        "id": "LNyjO30EyH9k"
      }
    },
    {
      "cell_type": "code",
      "source": [
        "a = \"hello\"\n",
        "print(a.upper())"
      ],
      "metadata": {
        "colab": {
          "base_uri": "https://localhost:8080/"
        },
        "id": "D6cs5ODTyWCr",
        "outputId": "cb265e2f-2cad-4294-c4b0-3e0954fa6849"
      },
      "execution_count": 5,
      "outputs": [
        {
          "output_type": "stream",
          "name": "stdout",
          "text": [
            "HELLO\n"
          ]
        }
      ]
    },
    {
      "cell_type": "markdown",
      "source": [
        "Q5.Write a code to replace the word \"apple\" with \"orange\" in the string \"I like apple\""
      ],
      "metadata": {
        "id": "U1oxzZitybGr"
      }
    },
    {
      "cell_type": "code",
      "source": [
        "a = \"I like apple\"\n",
        "print(a.replace(\"apple\",\"orange\"))"
      ],
      "metadata": {
        "colab": {
          "base_uri": "https://localhost:8080/"
        },
        "id": "3uMQEuyhyd20",
        "outputId": "cdee4e92-1212-45db-c375-3d2651e00421"
      },
      "execution_count": 6,
      "outputs": [
        {
          "output_type": "stream",
          "name": "stdout",
          "text": [
            "I like orange\n"
          ]
        }
      ]
    },
    {
      "cell_type": "markdown",
      "source": [
        "Q6. Write a code to create a list with numbers 1 to 5 and print it."
      ],
      "metadata": {
        "id": "3WFo-XbpyrbD"
      }
    },
    {
      "cell_type": "code",
      "source": [
        "_list = []\n",
        "for i in range(1,6):\n",
        "  _list.append(i)\n",
        "print(_list)"
      ],
      "metadata": {
        "colab": {
          "base_uri": "https://localhost:8080/"
        },
        "id": "G1wrmK3Vyupj",
        "outputId": "4357965f-eb9d-407f-bd73-2405326aadee"
      },
      "execution_count": 13,
      "outputs": [
        {
          "output_type": "stream",
          "name": "stdout",
          "text": [
            "[1, 2, 3, 4, 5]\n"
          ]
        }
      ]
    },
    {
      "cell_type": "markdown",
      "source": [
        "Q7.Write a code to append the number 10 to the list [1, 2, 3, 4]"
      ],
      "metadata": {
        "id": "zy_WvQjTz5TT"
      }
    },
    {
      "cell_type": "code",
      "source": [
        "_list = [1, 2, 3, 4]\n",
        "_list.append(10)\n",
        "print(_list)"
      ],
      "metadata": {
        "colab": {
          "base_uri": "https://localhost:8080/"
        },
        "id": "IYZrQ5Wbz9DL",
        "outputId": "f7772830-23db-4946-d1b0-81f26d86b524"
      },
      "execution_count": 14,
      "outputs": [
        {
          "output_type": "stream",
          "name": "stdout",
          "text": [
            "[1, 2, 3, 4, 10]\n"
          ]
        }
      ]
    },
    {
      "cell_type": "markdown",
      "source": [
        "Q8. Write a code to remove the number 3 from the list [1, 2, 3, 4, 5]"
      ],
      "metadata": {
        "id": "_sIF3A2i0OPj"
      }
    },
    {
      "cell_type": "code",
      "source": [
        "a = [1, 2, 3, 4, 5]\n",
        "a.remove(3)\n",
        "print(a)"
      ],
      "metadata": {
        "colab": {
          "base_uri": "https://localhost:8080/"
        },
        "id": "KNdj6zv70SHr",
        "outputId": "7ff3eaee-9f85-48fb-b651-9fd98e2c7227"
      },
      "execution_count": 19,
      "outputs": [
        {
          "output_type": "stream",
          "name": "stdout",
          "text": [
            "[1, 2, 4, 5]\n"
          ]
        }
      ]
    },
    {
      "cell_type": "markdown",
      "source": [
        "Q9  Write a code to access the second element in the list ['a', 'b', 'c', 'd']"
      ],
      "metadata": {
        "id": "11cQ77Ed0p_G"
      }
    },
    {
      "cell_type": "code",
      "source": [
        "a = ['a', 'b', 'c', 'd']\n",
        "print(a[1])"
      ],
      "metadata": {
        "colab": {
          "base_uri": "https://localhost:8080/"
        },
        "id": "7bi4xTZj0tYD",
        "outputId": "329b3fe6-ef41-430d-ec6e-563247c337c4"
      },
      "execution_count": 20,
      "outputs": [
        {
          "output_type": "stream",
          "name": "stdout",
          "text": [
            "b\n"
          ]
        }
      ]
    },
    {
      "cell_type": "markdown",
      "source": [
        "Q10 Write a code to reverse the list [10, 20, 30, 40, 50]."
      ],
      "metadata": {
        "id": "wfBlSJ9U0_KL"
      }
    },
    {
      "cell_type": "code",
      "source": [
        "a = [10, 20, 30, 40, 50]\n",
        "a.reverse()\n",
        "print(a)"
      ],
      "metadata": {
        "colab": {
          "base_uri": "https://localhost:8080/"
        },
        "id": "6ubmUEwG1Cbj",
        "outputId": "01589bc6-9dd3-4b31-8c0b-6df26b20988b"
      },
      "execution_count": 22,
      "outputs": [
        {
          "output_type": "stream",
          "name": "stdout",
          "text": [
            "[50, 40, 30, 20, 10]\n"
          ]
        }
      ]
    },
    {
      "cell_type": "markdown",
      "source": [
        "Q11  Write a code to create a tuple with the elements 10, 20, 30 and print it."
      ],
      "metadata": {
        "id": "Guwx7z8l1Kaj"
      }
    },
    {
      "cell_type": "code",
      "source": [
        "my_tuple = (10, 20, 30 , 30)\n",
        "print(my_tuple)"
      ],
      "metadata": {
        "colab": {
          "base_uri": "https://localhost:8080/"
        },
        "id": "G_c6B-ps1NNS",
        "outputId": "af03ed02-ee3c-4508-9032-f629dc9126f1"
      },
      "execution_count": 28,
      "outputs": [
        {
          "output_type": "stream",
          "name": "stdout",
          "text": [
            "(10, 20, 30, 30)\n"
          ]
        }
      ]
    },
    {
      "cell_type": "markdown",
      "source": [
        "Q12 Write a code to access the first element of the tuple ('apple', 'banana', 'cherry')."
      ],
      "metadata": {
        "id": "MwyEh8Wz2UX7"
      }
    },
    {
      "cell_type": "code",
      "source": [
        "my_tuple = ('apple', 'banana', 'cherry')\n",
        "print(my_tuple[0])"
      ],
      "metadata": {
        "colab": {
          "base_uri": "https://localhost:8080/"
        },
        "id": "mF_xIRa42YNy",
        "outputId": "c8973bd5-b178-4cae-fbc2-2c428a9ecd44"
      },
      "execution_count": 29,
      "outputs": [
        {
          "output_type": "stream",
          "name": "stdout",
          "text": [
            "apple\n"
          ]
        }
      ]
    },
    {
      "cell_type": "markdown",
      "source": [
        "Q13. Write a code to count how many times the number 2 appears in the tuple (1, 2, 3, 2, 4, 2)."
      ],
      "metadata": {
        "id": "WqPAt5Hq2gjy"
      }
    },
    {
      "cell_type": "code",
      "source": [
        "my_tuple = (1, 2, 3, 2, 4, 2)\n",
        "my_tuple.count(2)"
      ],
      "metadata": {
        "colab": {
          "base_uri": "https://localhost:8080/"
        },
        "id": "fDPMqq532lk6",
        "outputId": "905fc49d-3ad1-4839-a474-e42028687ece"
      },
      "execution_count": 30,
      "outputs": [
        {
          "output_type": "execute_result",
          "data": {
            "text/plain": [
              "3"
            ]
          },
          "metadata": {},
          "execution_count": 30
        }
      ]
    },
    {
      "cell_type": "markdown",
      "source": [
        "Q14. Write a code to find the index of the element \"cat\" in the tuple ('dog', 'cat', 'rabbit')."
      ],
      "metadata": {
        "id": "Dv43dAzk2uRC"
      }
    },
    {
      "cell_type": "code",
      "source": [
        "a = ('dog', 'cat', 'rabbit')\n",
        "a.index(\"cat\")"
      ],
      "metadata": {
        "colab": {
          "base_uri": "https://localhost:8080/"
        },
        "id": "0cGYiiCd2yzS",
        "outputId": "f1a69132-c69e-4208-aefe-75d810b4f49e"
      },
      "execution_count": 31,
      "outputs": [
        {
          "output_type": "execute_result",
          "data": {
            "text/plain": [
              "1"
            ]
          },
          "metadata": {},
          "execution_count": 31
        }
      ]
    },
    {
      "cell_type": "markdown",
      "source": [
        "Q15. Write a code to check if the element \"banana\" is in the tuple ('apple', 'orange', 'banana')"
      ],
      "metadata": {
        "id": "f0fkKHfu24zT"
      }
    },
    {
      "cell_type": "code",
      "source": [
        "a = ('apple', 'orange', 'banana')\n",
        "\"banana\" in a"
      ],
      "metadata": {
        "colab": {
          "base_uri": "https://localhost:8080/"
        },
        "id": "Jhr160Bx27LK",
        "outputId": "629766d7-29b2-4a09-b3c3-7fae038be109"
      },
      "execution_count": 32,
      "outputs": [
        {
          "output_type": "execute_result",
          "data": {
            "text/plain": [
              "True"
            ]
          },
          "metadata": {},
          "execution_count": 32
        }
      ]
    },
    {
      "cell_type": "markdown",
      "source": [
        "Q16.  Write a code to create a set with the elements 1, 2, 3, 4, 5 and print it."
      ],
      "metadata": {
        "id": "dUn8-2vN3HGS"
      }
    },
    {
      "cell_type": "code",
      "source": [
        "a = {1, 2, 3, 4, 5}\n",
        "print(a)"
      ],
      "metadata": {
        "colab": {
          "base_uri": "https://localhost:8080/"
        },
        "id": "IyoV1JkG3KQC",
        "outputId": "0e9a7915-50c0-4664-e7cb-7b7e119941a0"
      },
      "execution_count": 33,
      "outputs": [
        {
          "output_type": "stream",
          "name": "stdout",
          "text": [
            "{1, 2, 3, 4, 5}\n"
          ]
        }
      ]
    },
    {
      "cell_type": "markdown",
      "source": [
        "Q17. Write a code to add the element 6 to the set {1, 2, 3, 4}"
      ],
      "metadata": {
        "id": "eQ1HD2FB3Qxi"
      }
    },
    {
      "cell_type": "code",
      "source": [
        "a = {1,2,3,4}\n",
        "a.add(6)\n",
        "print(a)"
      ],
      "metadata": {
        "colab": {
          "base_uri": "https://localhost:8080/"
        },
        "id": "wc936C6P3UTa",
        "outputId": "24d33400-efa4-4bac-fdda-9d5654211077"
      },
      "execution_count": 35,
      "outputs": [
        {
          "output_type": "stream",
          "name": "stdout",
          "text": [
            "{1, 2, 3, 4, 6}\n"
          ]
        }
      ]
    },
    {
      "cell_type": "markdown",
      "source": [
        "**Q18 to Q24 are same as from Q11 to Q17**"
      ],
      "metadata": {
        "id": "X9-0XfIy5B5Z"
      }
    },
    {
      "cell_type": "markdown",
      "source": [],
      "metadata": {
        "id": "Erwa4XB25QfZ"
      }
    }
  ]
}